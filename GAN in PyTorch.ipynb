{
 "cells": [
  {
   "cell_type": "raw",
   "metadata": {},
   "source": [
    "Implementation of a GAN to generate hand written digits from MNIST dataset"
   ]
  },
  {
   "cell_type": "code",
   "execution_count": 1,
   "metadata": {},
   "outputs": [],
   "source": [
    "import torch\n",
    "import torch.nn.functional as nn\n",
    "import torch.autograd as autograd\n",
    "import torch.optim as optim\n",
    "import numpy as np\n",
    "import matplotlib.pyplot as plt\n",
    "import matplotlib.gridspec as gridspec\n",
    "import os\n",
    "from torch.autograd import Variable"
   ]
  },
  {
   "cell_type": "code",
   "execution_count": 2,
   "metadata": {},
   "outputs": [],
   "source": [
    "# So we need MNIST data , tensorflow provides a MNIST data\n",
    "from tensorflow.examples.tutorials.mnist import input_data"
   ]
  },
  {
   "cell_type": "code",
   "execution_count": 3,
   "metadata": {},
   "outputs": [
    {
     "name": "stdout",
     "output_type": "stream",
     "text": [
      "Extracting ../../MNIST_data/train-images-idx3-ubyte.gz\n",
      "Extracting ../../MNIST_data/train-labels-idx1-ubyte.gz\n",
      "Extracting ../../MNIST_data/t10k-images-idx3-ubyte.gz\n",
      "Extracting ../../MNIST_data/t10k-labels-idx1-ubyte.gz\n"
     ]
    }
   ],
   "source": [
    "mnist = input_data.read_data_sets('../../MNIST_data', one_hot=True)\n",
    "# set the min batch size\n",
    "mb_size = 64\n",
    "# the number of samples to take from a random distribution\n",
    "Z_dim = 100\n",
    "\n",
    "# The number of training examples\n",
    "X_dim = mnist.train.images.shape[1]\n",
    "y_dim = mnist.train.labels.shape[1]\n",
    "\n",
    "# The size of hidden layer\n",
    "h_dim = 128\n",
    "\n",
    "# Set the initial cost to zero\n",
    "c = 0\n",
    "\n",
    "# Set the learning rate\n",
    "lr = 1e-3"
   ]
  },
  {
   "cell_type": "code",
   "execution_count": 4,
   "metadata": {},
   "outputs": [],
   "source": [
    "# Lets define the 'Xavier Initialization function'\n",
    "def xavier_init(size):\n",
    "    in_dim = size[0]\n",
    "    xavier_stddev = 1. / np.sqrt(in_dim / 2.)\n",
    "    return Variable(torch.randn(*size) * xavier_stddev, requires_grad=True)"
   ]
  },
  {
   "cell_type": "markdown",
   "metadata": {},
   "source": [
    "### Let's start with the generator network"
   ]
  },
  {
   "cell_type": "markdown",
   "metadata": {},
   "source": [
    "##### First the variables"
   ]
  },
  {
   "cell_type": "code",
   "execution_count": 5,
   "metadata": {},
   "outputs": [],
   "source": [
    "Wzh = xavier_init(size=[Z_dim, h_dim])\n",
    "bzh = Variable(torch.zeros(h_dim), requires_grad=True)\n",
    "\n",
    "Whx = xavier_init(size=[h_dim, X_dim])\n",
    "bhx = Variable(torch.zeros(X_dim), requires_grad=True)"
   ]
  },
  {
   "cell_type": "markdown",
   "metadata": {},
   "source": [
    "##### Then the network"
   ]
  },
  {
   "cell_type": "code",
   "execution_count": 6,
   "metadata": {},
   "outputs": [],
   "source": [
    "def G(z):\n",
    "    h = nn.relu(z @ Wzh + bzh.repeat(z.size(0), 1))\n",
    "    X = nn.sigmoid(h @ Whx + bhx.repeat(h.size(0), 1))\n",
    "    return X"
   ]
  },
  {
   "cell_type": "markdown",
   "metadata": {},
   "source": [
    "### The Discriminator"
   ]
  },
  {
   "cell_type": "markdown",
   "metadata": {},
   "source": [
    "##### The variables"
   ]
  },
  {
   "cell_type": "code",
   "execution_count": 7,
   "metadata": {},
   "outputs": [],
   "source": [
    "Wxh = xavier_init(size=[X_dim, h_dim])\n",
    "bxh = Variable(torch.zeros(h_dim), requires_grad=True)\n",
    "\n",
    "Why = xavier_init(size=[h_dim, 1])\n",
    "bhy = Variable(torch.zeros(1), requires_grad=True)"
   ]
  },
  {
   "cell_type": "markdown",
   "metadata": {},
   "source": [
    "##### The discriminator network"
   ]
  },
  {
   "cell_type": "code",
   "execution_count": 8,
   "metadata": {},
   "outputs": [],
   "source": [
    "def D(X):\n",
    "    h = nn.relu(X @ Wxh + bxh.repeat(X.size(0), 1))\n",
    "    y = nn.sigmoid(h @ Why + bhy.repeat(h.size(0), 1))\n",
    "    return y"
   ]
  },
  {
   "cell_type": "code",
   "execution_count": 11,
   "metadata": {},
   "outputs": [],
   "source": [
    "# Store all the parameters under a single roof\n",
    "G_params = [Wzh, bzh, Whx, bhx]\n",
    "D_params = [Wxh, bxh, Why, bhy]\n",
    "params = G_params + D_params"
   ]
  },
  {
   "cell_type": "markdown",
   "metadata": {},
   "source": [
    "Lets begin to code the training process"
   ]
  },
  {
   "cell_type": "code",
   "execution_count": 9,
   "metadata": {},
   "outputs": [],
   "source": [
    "def reset_grad():\n",
    "    for p in params:\n",
    "        if p.grad is not None:\n",
    "            data = p.grad.data\n",
    "            p.grad = Variable(data.new().resize_as_(data).zero_())"
   ]
  },
  {
   "cell_type": "code",
   "execution_count": 12,
   "metadata": {},
   "outputs": [],
   "source": [
    "# Declare the optimizers for generator\n",
    "\n",
    "G_solver = optim.Adam(G_params, lr=1e-3)\n",
    "\n",
    "# Declare the optimizers for discriminator\n",
    "D_solver = optim.Adam(D_params, lr=1e-3)\n",
    "\n",
    "\n",
    "# The targets for the discriminator.\n",
    "# Zeros for the samples coming from generator and one for the data coming from sample space\n",
    "ones_label = Variable(torch.ones(mb_size))\n",
    "zeros_label = Variable(torch.zeros(mb_size))"
   ]
  },
  {
   "cell_type": "markdown",
   "metadata": {},
   "source": [
    "The actual training"
   ]
  },
  {
   "cell_type": "code",
   "execution_count": 14,
   "metadata": {},
   "outputs": [
    {
     "name": "stderr",
     "output_type": "stream",
     "text": [
      "/home/sangeet/.local/lib/python3.5/site-packages/torch/nn/functional.py:767: UserWarning: Using a target size (torch.Size([64])) that is different to the input size (torch.Size([64, 1])) is deprecated. Please ensure they have the same size.\n",
      "  \"Please ensure they have the same size.\".format(target.size(), input.size()))\n"
     ]
    },
    {
     "name": "stdout",
     "output_type": "stream",
     "text": [
      "Iter-0; D_loss: [ 0.01149398]; G_loss: [ 7.41103792]\n",
      "Iter-1000; D_loss: [ 0.11367784]; G_loss: [ 5.06134129]\n",
      "Iter-2000; D_loss: [ 0.18135014]; G_loss: [ 5.10213947]\n",
      "Iter-3000; D_loss: [ 0.40316546]; G_loss: [ 3.87496114]\n",
      "Iter-4000; D_loss: [ 0.39692569]; G_loss: [ 4.28647757]\n",
      "Iter-5000; D_loss: [ 0.30164322]; G_loss: [ 4.31418085]\n",
      "Iter-6000; D_loss: [ 0.49584416]; G_loss: [ 3.1275394]\n",
      "Iter-7000; D_loss: [ 0.39510179]; G_loss: [ 3.43714261]\n",
      "Iter-8000; D_loss: [ 0.44385687]; G_loss: [ 2.74458981]\n",
      "Iter-9000; D_loss: [ 0.71230245]; G_loss: [ 2.47349238]\n",
      "Iter-10000; D_loss: [ 0.63720447]; G_loss: [ 2.30929756]\n",
      "Iter-11000; D_loss: [ 0.80831742]; G_loss: [ 1.86277926]\n",
      "Iter-12000; D_loss: [ 0.55753684]; G_loss: [ 2.39155388]\n",
      "Iter-13000; D_loss: [ 0.79227191]; G_loss: [ 2.48480463]\n",
      "Iter-14000; D_loss: [ 0.81722093]; G_loss: [ 2.22580671]\n",
      "Iter-15000; D_loss: [ 0.7164582]; G_loss: [ 2.20550871]\n",
      "Iter-16000; D_loss: [ 0.84540212]; G_loss: [ 1.66572118]\n",
      "Iter-17000; D_loss: [ 0.74975407]; G_loss: [ 1.88330269]\n",
      "Iter-18000; D_loss: [ 0.80951357]; G_loss: [ 1.86891389]\n",
      "Iter-19000; D_loss: [ 0.75151509]; G_loss: [ 2.05195522]\n",
      "Iter-20000; D_loss: [ 0.68745327]; G_loss: [ 2.30927086]\n",
      "Iter-21000; D_loss: [ 0.80314255]; G_loss: [ 2.37519336]\n",
      "Iter-22000; D_loss: [ 0.854958]; G_loss: [ 1.60557306]\n",
      "Iter-23000; D_loss: [ 0.64879292]; G_loss: [ 1.96572423]\n",
      "Iter-24000; D_loss: [ 0.64116049]; G_loss: [ 2.09995961]\n",
      "Iter-25000; D_loss: [ 0.56733412]; G_loss: [ 1.76459455]\n",
      "Iter-26000; D_loss: [ 0.79629338]; G_loss: [ 2.42332602]\n",
      "Iter-27000; D_loss: [ 0.71255606]; G_loss: [ 2.04838824]\n",
      "Iter-28000; D_loss: [ 0.7621659]; G_loss: [ 2.24505877]\n",
      "Iter-29000; D_loss: [ 0.56436843]; G_loss: [ 2.44413209]\n",
      "Iter-30000; D_loss: [ 0.80494243]; G_loss: [ 2.25647068]\n",
      "Iter-31000; D_loss: [ 0.64298475]; G_loss: [ 1.86460185]\n",
      "Iter-32000; D_loss: [ 0.68791234]; G_loss: [ 1.76550186]\n",
      "Iter-33000; D_loss: [ 0.77363765]; G_loss: [ 1.71675611]\n",
      "Iter-34000; D_loss: [ 0.62639892]; G_loss: [ 2.22761106]\n",
      "Iter-35000; D_loss: [ 0.59597981]; G_loss: [ 2.39178467]\n",
      "Iter-36000; D_loss: [ 0.65357029]; G_loss: [ 2.30040503]\n",
      "Iter-37000; D_loss: [ 0.75482458]; G_loss: [ 1.97585714]\n",
      "Iter-38000; D_loss: [ 0.6402849]; G_loss: [ 2.30140519]\n",
      "Iter-39000; D_loss: [ 0.8167733]; G_loss: [ 2.44187379]\n",
      "Iter-40000; D_loss: [ 0.59614956]; G_loss: [ 2.18266368]\n",
      "Iter-41000; D_loss: [ 0.57683241]; G_loss: [ 2.56082606]\n",
      "Iter-42000; D_loss: [ 0.63275254]; G_loss: [ 2.02997923]\n",
      "Iter-43000; D_loss: [ 0.69078779]; G_loss: [ 2.52865505]\n",
      "Iter-44000; D_loss: [ 0.74278212]; G_loss: [ 2.60118723]\n",
      "Iter-45000; D_loss: [ 0.63115734]; G_loss: [ 2.9504478]\n",
      "Iter-46000; D_loss: [ 0.61531615]; G_loss: [ 2.47616625]\n",
      "Iter-47000; D_loss: [ 0.67465258]; G_loss: [ 2.69813204]\n",
      "Iter-48000; D_loss: [ 0.67262536]; G_loss: [ 2.50810122]\n",
      "Iter-49000; D_loss: [ 0.6054939]; G_loss: [ 2.31549883]\n",
      "Iter-50000; D_loss: [ 0.6597631]; G_loss: [ 2.50759196]\n",
      "Iter-51000; D_loss: [ 0.77108335]; G_loss: [ 2.12004423]\n",
      "Iter-52000; D_loss: [ 0.54629469]; G_loss: [ 2.06464863]\n",
      "Iter-53000; D_loss: [ 0.61554456]; G_loss: [ 2.70673466]\n",
      "Iter-54000; D_loss: [ 0.53139013]; G_loss: [ 2.7002821]\n",
      "Iter-55000; D_loss: [ 0.89187932]; G_loss: [ 1.8767519]\n",
      "Iter-56000; D_loss: [ 0.48213166]; G_loss: [ 2.26804161]\n",
      "Iter-57000; D_loss: [ 0.72795528]; G_loss: [ 2.13743162]\n",
      "Iter-58000; D_loss: [ 0.46259886]; G_loss: [ 2.20465708]\n",
      "Iter-59000; D_loss: [ 0.68448913]; G_loss: [ 2.47838998]\n",
      "Iter-60000; D_loss: [ 0.66308069]; G_loss: [ 2.48348475]\n",
      "Iter-61000; D_loss: [ 0.71448976]; G_loss: [ 1.89606178]\n",
      "Iter-62000; D_loss: [ 0.63630062]; G_loss: [ 2.64100313]\n",
      "Iter-63000; D_loss: [ 0.68654162]; G_loss: [ 2.14726877]\n",
      "Iter-64000; D_loss: [ 0.5102486]; G_loss: [ 2.82587647]\n",
      "Iter-65000; D_loss: [ 0.57764554]; G_loss: [ 2.48434567]\n",
      "Iter-66000; D_loss: [ 0.54692924]; G_loss: [ 2.30982566]\n",
      "Iter-67000; D_loss: [ 0.53050691]; G_loss: [ 2.35334229]\n",
      "Iter-68000; D_loss: [ 0.71520609]; G_loss: [ 2.11938834]\n",
      "Iter-69000; D_loss: [ 0.60409415]; G_loss: [ 2.36715961]\n",
      "Iter-70000; D_loss: [ 0.52592319]; G_loss: [ 2.47166538]\n",
      "Iter-71000; D_loss: [ 0.44749874]; G_loss: [ 2.18271494]\n",
      "Iter-72000; D_loss: [ 0.53183728]; G_loss: [ 2.15562582]\n",
      "Iter-73000; D_loss: [ 0.59195304]; G_loss: [ 2.12734914]\n",
      "Iter-74000; D_loss: [ 0.58788681]; G_loss: [ 2.09754682]\n",
      "Iter-75000; D_loss: [ 0.63065809]; G_loss: [ 2.14113402]\n",
      "Iter-76000; D_loss: [ 0.7524848]; G_loss: [ 2.5711627]\n",
      "Iter-77000; D_loss: [ 0.4936066]; G_loss: [ 2.44003916]\n",
      "Iter-78000; D_loss: [ 0.58442032]; G_loss: [ 2.01791716]\n",
      "Iter-79000; D_loss: [ 0.53754938]; G_loss: [ 2.27741742]\n",
      "Iter-80000; D_loss: [ 0.61831051]; G_loss: [ 2.59884191]\n",
      "Iter-81000; D_loss: [ 0.56810755]; G_loss: [ 2.28812432]\n",
      "Iter-82000; D_loss: [ 0.42602885]; G_loss: [ 2.44806981]\n",
      "Iter-83000; D_loss: [ 0.47815961]; G_loss: [ 2.44871736]\n",
      "Iter-84000; D_loss: [ 0.41007233]; G_loss: [ 2.53452897]\n",
      "Iter-85000; D_loss: [ 0.37679219]; G_loss: [ 2.88569427]\n",
      "Iter-86000; D_loss: [ 0.58984643]; G_loss: [ 1.98857892]\n",
      "Iter-87000; D_loss: [ 0.48053175]; G_loss: [ 2.41616178]\n",
      "Iter-88000; D_loss: [ 0.5420894]; G_loss: [ 2.23072243]\n",
      "Iter-89000; D_loss: [ 0.75396514]; G_loss: [ 2.29989839]\n",
      "Iter-90000; D_loss: [ 0.52418637]; G_loss: [ 2.20049214]\n",
      "Iter-91000; D_loss: [ 0.49374703]; G_loss: [ 2.73197436]\n",
      "Iter-92000; D_loss: [ 0.66315997]; G_loss: [ 2.29009938]\n",
      "Iter-93000; D_loss: [ 0.57888776]; G_loss: [ 2.10476661]\n",
      "Iter-94000; D_loss: [ 0.59841561]; G_loss: [ 2.31601429]\n",
      "Iter-95000; D_loss: [ 0.5865007]; G_loss: [ 1.85789812]\n",
      "Iter-96000; D_loss: [ 0.49485373]; G_loss: [ 2.44702387]\n",
      "Iter-97000; D_loss: [ 0.50981086]; G_loss: [ 2.53082681]\n",
      "Iter-98000; D_loss: [ 0.57559079]; G_loss: [ 2.22938132]\n",
      "Iter-99000; D_loss: [ 0.53077787]; G_loss: [ 2.38948011]\n"
     ]
    }
   ],
   "source": [
    "gen_loss=[]\n",
    "dis_loss=[]\n",
    "\n",
    "for it in range(100000):\n",
    "    # Sample data\n",
    "    z = Variable(torch.randn(mb_size, Z_dim))\n",
    "    X, _ = mnist.train.next_batch(mb_size)\n",
    "    \n",
    "    #The iputs should be a troch tensor\n",
    "    X = Variable(torch.from_numpy(X))\n",
    "\n",
    "    # Dicriminator forward-loss-backward-update\n",
    "    G_sample = G(z)\n",
    "    D_real = D(X)\n",
    "    D_fake = D(G_sample)\n",
    "\n",
    "    D_loss_real = nn.binary_cross_entropy(D_real, ones_label)\n",
    "    D_loss_fake = nn.binary_cross_entropy(D_fake, zeros_label)\n",
    "    D_loss = D_loss_real + D_loss_fake\n",
    "\n",
    "    D_loss.backward()\n",
    "    D_solver.step()\n",
    "\n",
    "    # Housekeeping - reset gradient\n",
    "    reset_grad()\n",
    "\n",
    "    # Generator forward-loss-backward-update\n",
    "    z = Variable(torch.randn(mb_size, Z_dim))\n",
    "    G_sample = G(z)\n",
    "    D_fake = D(G_sample)\n",
    "\n",
    "    G_loss = nn.binary_cross_entropy(D_fake, ones_label)\n",
    "\n",
    "    G_loss.backward()\n",
    "    G_solver.step()\n",
    "\n",
    "    # Housekeeping - reset gradient\n",
    "    reset_grad()\n",
    "\n",
    "    # Print and plot every now and then\n",
    "    if it % 1000 == 0:\n",
    "        print('Iter-{}; D_loss: {}; G_loss: {}'.format(it, D_loss.data.numpy(), G_loss.data.numpy()))\n",
    "        dis_loss.append(D_loss.data.numpy())\n",
    "        gen_loss.append(G_loss.data.numpy())\n",
    "\n",
    "        samples = G(z).data.numpy()[:16]\n",
    "\n",
    "        fig = plt.figure(figsize=(4, 4))\n",
    "        gs = gridspec.GridSpec(4, 4)\n",
    "        gs.update(wspace=0.05, hspace=0.05)\n",
    "\n",
    "        for i, sample in enumerate(samples):\n",
    "            ax = plt.subplot(gs[i])\n",
    "            plt.axis('off')\n",
    "            ax.set_xticklabels([])\n",
    "            ax.set_yticklabels([])\n",
    "            ax.set_aspect('equal')\n",
    "            plt.imshow(sample.reshape(28, 28), cmap='Greys_r')\n",
    "\n",
    "        plt.savefig('out-pytorch-gan/{}.png'.format(str(c).zfill(3)), bbox_inches='tight')\n",
    "        c += 1\n",
    "        plt.close(fig)"
   ]
  },
  {
   "cell_type": "code",
   "execution_count": null,
   "metadata": {},
   "outputs": [],
   "source": [
    "import pickle\n",
    "with open(\"./out-pytorch-gan/losses_pickles/genloss.pkl\",\"wb\") as f:\n",
    "    pickle.dump(gen_loss,f)\n",
    "    "
   ]
  },
  {
   "cell_type": "code",
   "execution_count": 16,
   "metadata": {},
   "outputs": [],
   "source": [
    "with open(\"./out-pytorch-gan/losses_pickles/disloss.pkl\",\"wb\") as f:\n",
    "    pickle.dump(dis_loss,f)"
   ]
  },
  {
   "cell_type": "code",
   "execution_count": 1,
   "metadata": {},
   "outputs": [],
   "source": [
    "import pickle"
   ]
  },
  {
   "cell_type": "code",
   "execution_count": 2,
   "metadata": {},
   "outputs": [],
   "source": [
    "with open(\"./out-pytorch-gan/losses_pickles/genloss.pkl\",\"rb\") as f:\n",
    "    gen_loss=pickle.load(f)\n",
    "\n",
    "import matplotlib.pyplot as plt\n",
    "\n",
    "plt.plot(gen_loss)\n",
    "\n",
    "plt.show()"
   ]
  },
  {
   "cell_type": "code",
   "execution_count": null,
   "metadata": {},
   "outputs": [],
   "source": []
  },
  {
   "cell_type": "code",
   "execution_count": 6,
   "metadata": {},
   "outputs": [
    {
     "data": {
      "text/plain": [
       "[<matplotlib.lines.Line2D at 0x7fce2e4f7400>]"
      ]
     },
     "execution_count": 6,
     "metadata": {},
     "output_type": "execute_result"
    }
   ],
   "source": [
    "with open(\"./out-pytorch-gan/losses_pickles/disloss.pkl\",\"rb\") as f:\n",
    "    dis_loss=pickle.load(f)\n",
    "\n",
    "import matplotlib.pyplot as plt\n",
    "\n",
    "plt.plot(dis_loss)"
   ]
  },
  {
   "cell_type": "code",
   "execution_count": 7,
   "metadata": {},
   "outputs": [
    {
     "data": {
      "image/png": "[encoded data removed]",
      "text/plain": [
       "<matplotlib.figure.Figure at 0x7fce2e6b5fd0>"
      ]
     },
     "metadata": {},
     "output_type": "display_data"
    }
   ],
   "source": [
    "plt.show()"
   ]
  },
  {
   "cell_type": "code",
   "execution_count": null,
   "metadata": {},
   "outputs": [],
   "source": []
  }
 ],
 "metadata": {
  "kernelspec": {
   "display_name": "Python 3",
   "language": "python",
   "name": "python3"
  },
  "language_info": {
   "codemirror_mode": {
    "name": "ipython",
    "version": 3
   },
   "file_extension": ".py",
   "mimetype": "text/x-python",
   "name": "python",
   "nbconvert_exporter": "python",
   "pygments_lexer": "ipython3",
   "version": "3.5.2"
  }
 },
 "nbformat": 4,
 "nbformat_minor": 2
}
