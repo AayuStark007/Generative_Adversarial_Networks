{
 "cells": [
  {
   "cell_type": "code",
   "execution_count": 1,
   "metadata": {
    "collapsed": true
   },
   "outputs": [],
   "source": [
    "import torch\n",
    "import torch.nn as nn\n",
    "import torch.nn.functional as F\n",
    "from torch.autograd import Variable\n",
    "import torch.optim as optim\n",
    "import numpy as np\n",
    "import matplotlib.pyplot as plt\n",
    "import matplotlib.gridspec as gridspec\n",
    "import os"
   ]
  },
  {
   "cell_type": "code",
   "execution_count": 2,
   "metadata": {
    "collapsed": true
   },
   "outputs": [],
   "source": [
    "from tensorflow.examples.tutorials.mnist import input_data"
   ]
  },
  {
   "cell_type": "code",
   "execution_count": 3,
   "metadata": {},
   "outputs": [
    {
     "name": "stdout",
     "output_type": "stream",
     "text": [
      "Extracting ../../MNIST_data/train-images-idx3-ubyte.gz\n",
      "Extracting ../../MNIST_data/train-labels-idx1-ubyte.gz\n",
      "Extracting ../../MNIST_data/t10k-images-idx3-ubyte.gz\n",
      "Extracting ../../MNIST_data/t10k-labels-idx1-ubyte.gz\n"
     ]
    }
   ],
   "source": [
    "mnist = input_data.read_data_sets('../../MNIST_data', one_hot=True)\n",
    "# set the min batch size\n",
    "mb_size = 64\n",
    "# the number of samples to take from a random distribution\n",
    "Z_dim = 100\n",
    "\n",
    "# The number of training examples\n",
    "X_dim = mnist.train.images.shape[1]\n",
    "y_dim = mnist.train.labels.shape[1]\n",
    "\n",
    "# The size of hidden layer\n",
    "h_dim = 128\n",
    "\n",
    "# Set the initial cost to zero\n",
    "c = 0\n",
    "\n",
    "# Set the learning rate\n",
    "lr = 1e-3"
   ]
  },
  {
   "cell_type": "code",
   "execution_count": 4,
   "metadata": {
    "collapsed": true
   },
   "outputs": [],
   "source": [
    "# Lets define the 'Xavier Initialization function'\n",
    "def xavier_init(size):\n",
    "    in_dim = size[0]\n",
    "    xavier_stddev = 1. / np.sqrt(in_dim / 2.)\n",
    "    return Variable(torch.randn(*size) * xavier_stddev, requires_grad=True)"
   ]
  },
  {
   "cell_type": "markdown",
   "metadata": {},
   "source": [
    "### Define the models"
   ]
  },
  {
   "cell_type": "markdown",
   "metadata": {},
   "source": [
    "#### Generator Network"
   ]
  },
  {
   "cell_type": "code",
   "execution_count": 5,
   "metadata": {
    "collapsed": true
   },
   "outputs": [],
   "source": [
    "#Generator Network\n",
    "class Generator(nn.Module):\n",
    "    \n",
    "    def __init__(self):\n",
    "        super(Generator, self).__init__()\n",
    "        \n",
    "        self.main = nn.Sequential(\n",
    "            nn.Linear(Z_dim, h_dim),\n",
    "            nn.ReLU(True),\n",
    "            nn.Linear(h_dim, X_dim),\n",
    "            nn.Sigmoid()\n",
    "        )\n",
    "        \n",
    "    def forward(self, x):\n",
    "        output = self.main(x)\n",
    "        \n",
    "        return output"
   ]
  },
  {
   "cell_type": "markdown",
   "metadata": {},
   "source": [
    "#### Discriminator Network"
   ]
  },
  {
   "cell_type": "code",
   "execution_count": 6,
   "metadata": {
    "collapsed": true
   },
   "outputs": [],
   "source": [
    "#Discriminator Network\n",
    "class Discriminator(nn.Module):\n",
    "    \n",
    "    def __init__(self):\n",
    "        super(Discriminator, self).__init__()\n",
    "        \n",
    "        self.main = nn.Sequential(\n",
    "            nn.Linear(X_dim, h_dim),\n",
    "            nn.ReLU(True),\n",
    "            nn.Linear(h_dim, 1),\n",
    "            nn.Sigmoid()\n",
    "        )\n",
    "        \n",
    "    def forward(self, x):\n",
    "        output = self.main(x)\n",
    "        \n",
    "        return output"
   ]
  },
  {
   "cell_type": "code",
   "execution_count": 7,
   "metadata": {
    "collapsed": true
   },
   "outputs": [],
   "source": [
    "#Get instance of both classes\n",
    "G = Generator()\n",
    "D = Discriminator()"
   ]
  },
  {
   "cell_type": "code",
   "execution_count": 8,
   "metadata": {
    "collapsed": true
   },
   "outputs": [],
   "source": [
    "# Get parameters\n",
    "G_params = G.parameters()\n",
    "D_params = D.parameters()"
   ]
  },
  {
   "cell_type": "code",
   "execution_count": 9,
   "metadata": {
    "collapsed": true
   },
   "outputs": [],
   "source": [
    "# Reset gradients for Generator and Discriminator\n",
    "def reset_grad():\n",
    "    G.zero_grad()\n",
    "    D.zero_grad()"
   ]
  },
  {
   "cell_type": "code",
   "execution_count": 10,
   "metadata": {
    "collapsed": true
   },
   "outputs": [],
   "source": [
    "# Declare the optimizers for generator\n",
    "G_solver = optim.Adam(G_params, lr=1e-3)\n",
    "\n",
    "# Declare the optimizers for discriminator\n",
    "D_solver = optim.Adam(D_params, lr=1e-3)\n",
    "\n",
    "\n",
    "# The targets for the discriminator.\n",
    "# Zeros for the samples coming from generator and one for the data coming from sample space\n",
    "ones_label = Variable(torch.ones(mb_size))\n",
    "zeros_label = Variable(torch.zeros(mb_size))"
   ]
  },
  {
   "cell_type": "code",
   "execution_count": 11,
   "metadata": {},
   "outputs": [
    {
     "name": "stderr",
     "output_type": "stream",
     "text": [
      "/home/aayush/anaconda3/envs/pytorch/lib/python3.6/site-packages/torch/nn/functional.py:767: UserWarning: Using a target size (torch.Size([64])) that is different to the input size (torch.Size([64, 1])) is deprecated. Please ensure they have the same size.\n",
      "  \"Please ensure they have the same size.\".format(target.size(), input.size()))\n"
     ]
    },
    {
     "name": "stdout",
     "output_type": "stream",
     "text": [
      "Iter-0; D_loss: [ 1.42799854]; G_loss: [ 1.06400776]\n",
      "Iter-1000; D_loss: [ 0.15747894]; G_loss: [ 5.55742216]\n",
      "Iter-2000; D_loss: [ 0.05016885]; G_loss: [ 4.90917349]\n",
      "Iter-3000; D_loss: [ 0.0742672]; G_loss: [ 5.13953447]\n",
      "Iter-4000; D_loss: [ 0.32348305]; G_loss: [ 3.79268193]\n",
      "Iter-5000; D_loss: [ 0.46073079]; G_loss: [ 3.95075059]\n",
      "Iter-6000; D_loss: [ 0.45037293]; G_loss: [ 4.02389097]\n",
      "Iter-7000; D_loss: [ 0.36668175]; G_loss: [ 3.12465525]\n",
      "Iter-8000; D_loss: [ 0.53214502]; G_loss: [ 2.68251896]\n",
      "Iter-9000; D_loss: [ 0.58683419]; G_loss: [ 2.41874909]\n",
      "Iter-10000; D_loss: [ 0.7708084]; G_loss: [ 2.21970701]\n",
      "Iter-11000; D_loss: [ 0.8651036]; G_loss: [ 2.1632185]\n",
      "Iter-12000; D_loss: [ 0.86264086]; G_loss: [ 2.36173916]\n",
      "Iter-13000; D_loss: [ 0.61647522]; G_loss: [ 2.30670285]\n",
      "Iter-14000; D_loss: [ 0.84293902]; G_loss: [ 2.05568647]\n",
      "Iter-15000; D_loss: [ 0.61127412]; G_loss: [ 2.20398116]\n",
      "Iter-16000; D_loss: [ 0.62226689]; G_loss: [ 2.41275239]\n",
      "Iter-17000; D_loss: [ 0.81896597]; G_loss: [ 2.25193357]\n",
      "Iter-18000; D_loss: [ 0.63307089]; G_loss: [ 2.15498447]\n",
      "Iter-19000; D_loss: [ 0.7383275]; G_loss: [ 2.31247687]\n",
      "Iter-20000; D_loss: [ 1.07895517]; G_loss: [ 2.11442041]\n",
      "Iter-21000; D_loss: [ 0.81680703]; G_loss: [ 1.6724416]\n",
      "Iter-22000; D_loss: [ 0.84305429]; G_loss: [ 1.60765707]\n",
      "Iter-23000; D_loss: [ 0.63610053]; G_loss: [ 2.3594048]\n",
      "Iter-24000; D_loss: [ 0.83644104]; G_loss: [ 1.66007924]\n",
      "Iter-25000; D_loss: [ 0.9271245]; G_loss: [ 2.14547467]\n",
      "Iter-26000; D_loss: [ 0.81996131]; G_loss: [ 1.85010839]\n",
      "Iter-27000; D_loss: [ 0.87604141]; G_loss: [ 1.56979012]\n",
      "Iter-28000; D_loss: [ 0.92547441]; G_loss: [ 1.85136425]\n",
      "Iter-29000; D_loss: [ 0.79046959]; G_loss: [ 1.76162553]\n",
      "Iter-30000; D_loss: [ 0.87252063]; G_loss: [ 1.59639084]\n",
      "Iter-31000; D_loss: [ 0.89199841]; G_loss: [ 2.1951921]\n",
      "Iter-32000; D_loss: [ 0.81992692]; G_loss: [ 2.10183144]\n",
      "Iter-33000; D_loss: [ 0.8031249]; G_loss: [ 1.78012097]\n",
      "Iter-34000; D_loss: [ 0.79015374]; G_loss: [ 2.13631344]\n",
      "Iter-35000; D_loss: [ 0.64987147]; G_loss: [ 1.60034466]\n",
      "Iter-36000; D_loss: [ 0.8686446]; G_loss: [ 2.01964617]\n",
      "Iter-37000; D_loss: [ 0.75098753]; G_loss: [ 1.64397311]\n",
      "Iter-38000; D_loss: [ 0.85997462]; G_loss: [ 1.89125836]\n",
      "Iter-39000; D_loss: [ 0.8404969]; G_loss: [ 1.91635466]\n",
      "Iter-40000; D_loss: [ 0.75326532]; G_loss: [ 1.96249473]\n",
      "Iter-41000; D_loss: [ 0.73219001]; G_loss: [ 2.31767488]\n",
      "Iter-42000; D_loss: [ 0.6722585]; G_loss: [ 1.71183729]\n",
      "Iter-43000; D_loss: [ 0.70209652]; G_loss: [ 1.84006536]\n",
      "Iter-44000; D_loss: [ 0.71598208]; G_loss: [ 1.89494252]\n",
      "Iter-45000; D_loss: [ 0.76575184]; G_loss: [ 2.25579762]\n",
      "Iter-46000; D_loss: [ 1.08409643]; G_loss: [ 1.74595869]\n",
      "Iter-47000; D_loss: [ 0.79925287]; G_loss: [ 2.32584667]\n",
      "Iter-48000; D_loss: [ 0.78732717]; G_loss: [ 1.96359348]\n",
      "Iter-49000; D_loss: [ 0.73898435]; G_loss: [ 2.04601574]\n",
      "Iter-50000; D_loss: [ 0.66935694]; G_loss: [ 2.02002287]\n",
      "Iter-51000; D_loss: [ 0.63205588]; G_loss: [ 2.35141659]\n",
      "Iter-52000; D_loss: [ 0.65856016]; G_loss: [ 1.99214268]\n",
      "Iter-53000; D_loss: [ 0.62842262]; G_loss: [ 2.02990627]\n",
      "Iter-54000; D_loss: [ 0.82684612]; G_loss: [ 1.91681004]\n",
      "Iter-55000; D_loss: [ 0.70295298]; G_loss: [ 2.36409092]\n",
      "Iter-56000; D_loss: [ 0.66385978]; G_loss: [ 2.08356977]\n",
      "Iter-57000; D_loss: [ 0.67287982]; G_loss: [ 2.28807306]\n",
      "Iter-58000; D_loss: [ 0.57549763]; G_loss: [ 2.03183031]\n",
      "Iter-59000; D_loss: [ 0.65889943]; G_loss: [ 2.1988883]\n",
      "Iter-60000; D_loss: [ 0.70734644]; G_loss: [ 2.08679342]\n",
      "Iter-61000; D_loss: [ 0.80920827]; G_loss: [ 1.76398361]\n",
      "Iter-62000; D_loss: [ 0.70340896]; G_loss: [ 2.54782653]\n",
      "Iter-63000; D_loss: [ 0.61687922]; G_loss: [ 2.07804441]\n",
      "Iter-64000; D_loss: [ 0.77623987]; G_loss: [ 2.33190393]\n",
      "Iter-65000; D_loss: [ 0.67012954]; G_loss: [ 1.85708189]\n",
      "Iter-66000; D_loss: [ 0.63760847]; G_loss: [ 2.0535543]\n",
      "Iter-67000; D_loss: [ 0.63937986]; G_loss: [ 2.01843429]\n",
      "Iter-68000; D_loss: [ 0.63872313]; G_loss: [ 2.21365356]\n",
      "Iter-69000; D_loss: [ 0.56455272]; G_loss: [ 2.03884292]\n",
      "Iter-70000; D_loss: [ 0.84116924]; G_loss: [ 2.10476708]\n",
      "Iter-71000; D_loss: [ 0.68818033]; G_loss: [ 2.21561074]\n",
      "Iter-72000; D_loss: [ 0.70702159]; G_loss: [ 2.22490025]\n",
      "Iter-73000; D_loss: [ 0.5963347]; G_loss: [ 2.24246359]\n",
      "Iter-74000; D_loss: [ 0.50064254]; G_loss: [ 2.17838049]\n",
      "Iter-75000; D_loss: [ 0.58829045]; G_loss: [ 2.03757262]\n",
      "Iter-76000; D_loss: [ 0.70360374]; G_loss: [ 2.14500475]\n",
      "Iter-77000; D_loss: [ 0.81827259]; G_loss: [ 2.04314613]\n",
      "Iter-78000; D_loss: [ 0.75134093]; G_loss: [ 2.40280032]\n",
      "Iter-79000; D_loss: [ 0.75691998]; G_loss: [ 2.07120037]\n",
      "Iter-80000; D_loss: [ 0.58746386]; G_loss: [ 1.84777498]\n",
      "Iter-81000; D_loss: [ 0.6087665]; G_loss: [ 2.06758118]\n",
      "Iter-82000; D_loss: [ 0.66884196]; G_loss: [ 2.45816994]\n",
      "Iter-83000; D_loss: [ 0.69619048]; G_loss: [ 2.00816202]\n",
      "Iter-84000; D_loss: [ 0.66430396]; G_loss: [ 2.21837997]\n",
      "Iter-85000; D_loss: [ 0.5277133]; G_loss: [ 2.48229766]\n",
      "Iter-86000; D_loss: [ 0.61295265]; G_loss: [ 2.40540004]\n",
      "Iter-87000; D_loss: [ 0.48298281]; G_loss: [ 2.29744053]\n",
      "Iter-88000; D_loss: [ 0.60547167]; G_loss: [ 1.91424131]\n",
      "Iter-89000; D_loss: [ 0.58355272]; G_loss: [ 2.31784177]\n",
      "Iter-90000; D_loss: [ 0.59928417]; G_loss: [ 2.32087588]\n",
      "Iter-91000; D_loss: [ 0.63325852]; G_loss: [ 2.40397978]\n",
      "Iter-92000; D_loss: [ 0.57332456]; G_loss: [ 2.39921761]\n",
      "Iter-93000; D_loss: [ 0.81201661]; G_loss: [ 1.93853676]\n",
      "Iter-94000; D_loss: [ 0.68695939]; G_loss: [ 2.30997086]\n",
      "Iter-95000; D_loss: [ 0.59610617]; G_loss: [ 2.21796536]\n",
      "Iter-96000; D_loss: [ 0.49852139]; G_loss: [ 2.39962292]\n",
      "Iter-97000; D_loss: [ 0.52800906]; G_loss: [ 2.42509937]\n",
      "Iter-98000; D_loss: [ 0.51459867]; G_loss: [ 2.23991466]\n",
      "Iter-99000; D_loss: [ 0.50359637]; G_loss: [ 1.79014051]\n"
     ]
    }
   ],
   "source": [
    "gen_loss=[]\n",
    "dis_loss=[]\n",
    "\n",
    "for it in range(100000):\n",
    "    # Sample data\n",
    "    z = Variable(torch.randn(mb_size, Z_dim))\n",
    "    X, _ = mnist.train.next_batch(mb_size)\n",
    "    \n",
    "    #The iputs should be a torch tensor\n",
    "    X = Variable(torch.from_numpy(X))\n",
    "    \n",
    "    # Dicriminator forward-loss-backward-update\n",
    "    G_sample = G(z)\n",
    "    D_real = D(X)\n",
    "    D_fake = D(G_sample)\n",
    "\n",
    "    D_loss_real = F.binary_cross_entropy(D_real, ones_label)\n",
    "    D_loss_fake = F.binary_cross_entropy(D_fake, zeros_label)\n",
    "    D_loss = D_loss_real + D_loss_fake\n",
    "\n",
    "    D_loss.backward()\n",
    "    D_solver.step()\n",
    "\n",
    "    # Housekeeping - reset gradient\n",
    "    reset_grad()\n",
    "\n",
    "    # Generator forward-loss-backward-update\n",
    "    z = Variable(torch.randn(mb_size, Z_dim))\n",
    "    G_sample = G(z)\n",
    "    D_fake = D(G_sample)\n",
    "\n",
    "    G_loss = F.binary_cross_entropy(D_fake, ones_label)\n",
    "\n",
    "    G_loss.backward()\n",
    "    G_solver.step()\n",
    "\n",
    "    # Housekeeping - reset gradient\n",
    "    reset_grad()\n",
    "\n",
    "    # Print and plot every now and then\n",
    "    if it % 1000 == 0:\n",
    "        print('Iter-{}; D_loss: {}; G_loss: {}'.format(it, D_loss.data.numpy(), G_loss.data.numpy()))\n",
    "        dis_loss.append(D_loss.data.numpy())\n",
    "        gen_loss.append(G_loss.data.numpy())\n",
    "\n",
    "        samples = G(z).data.numpy()[:16]\n",
    "\n",
    "        fig = plt.figure(figsize=(4, 4))\n",
    "        gs = gridspec.GridSpec(4, 4)\n",
    "        gs.update(wspace=0.05, hspace=0.05)\n",
    "\n",
    "        for i, sample in enumerate(samples):\n",
    "            ax = plt.subplot(gs[i])\n",
    "            plt.axis('off')\n",
    "            ax.set_xticklabels([])\n",
    "            ax.set_yticklabels([])\n",
    "            ax.set_aspect('equal')\n",
    "            plt.imshow(sample.reshape(28, 28), cmap='Greys_r')\n",
    "\n",
    "        plt.savefig('out-pytorch-gan/{}.png'.format(str(c).zfill(3)), bbox_inches='tight')\n",
    "        c += 1\n",
    "        plt.close(fig)"
   ]
  },
  {
   "cell_type": "code",
   "execution_count": 14,
   "metadata": {},
   "outputs": [],
   "source": [
    "import pickle\n",
    "\n",
    "with open(\"./out-pytorch-gan/losses_pickles/genloss.pkl\",\"wb\") as f:\n",
    "    pickle.dump(gen_loss,f)\n",
    "\n",
    "with open(\"./out-pytorch-gan/losses_pickles/disloss.pkl\",\"wb\") as f:\n",
    "    pickle.dump(dis_loss,f)"
   ]
  },
  {
   "cell_type": "code",
   "execution_count": 15,
   "metadata": {
    "collapsed": true
   },
   "outputs": [],
   "source": [
    "import matplotlib.pyplot as plt\n",
    "\n",
    "with open(\"./out-pytorch-gan/losses_pickles/genloss.pkl\",\"rb\") as f:\n",
    "    gen_loss=pickle.load(f)\n",
    "\n",
    "with open(\"./out-pytorch-gan/losses_pickles/disloss.pkl\",\"rb\") as f:\n",
    "    dis_loss=pickle.load(f)"
   ]
  },
  {
   "cell_type": "code",
   "execution_count": 16,
   "metadata": {},
   "outputs": [
    {
     "data": {
      "image/png": "[encoded data removed]",
      "text/plain": [
       "<matplotlib.figure.Figure at 0x7fe8bc585358>"
      ]
     },
     "metadata": {},
     "output_type": "display_data"
    }
   ],
   "source": [
    "plt.plot(gen_loss)\n",
    "plt.show()"
   ]
  },
  {
   "cell_type": "code",
   "execution_count": 17,
   "metadata": {},
   "outputs": [
    {
     "data": {
      "image/png": "[encoded data removed]",
      "text/plain": [
       "<matplotlib.figure.Figure at 0x7fe8bcbb5f60>"
      ]
     },
     "metadata": {},
     "output_type": "display_data"
    }
   ],
   "source": [
    "plt.plot(dis_loss)\n",
    "plt.show()"
   ]
  },
  {
   "cell_type": "code",
   "execution_count": null,
   "metadata": {
    "collapsed": true
   },
   "outputs": [],
   "source": []
  }
 ],
 "metadata": {
  "kernelspec": {
   "display_name": "Python 3",
   "language": "python",
   "name": "python3"
  },
  "language_info": {
   "codemirror_mode": {
    "name": "ipython",
    "version": 3
   },
   "file_extension": ".py",
   "mimetype": "text/x-python",
   "name": "python",
   "nbconvert_exporter": "python",
   "pygments_lexer": "ipython3",
   "version": "3.6.2"
  }
 },
 "nbformat": 4,
 "nbformat_minor": 2
}
