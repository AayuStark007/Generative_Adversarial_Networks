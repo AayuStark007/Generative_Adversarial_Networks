{
 "cells": [
  {
   "cell_type": "code",
   "execution_count": 1,
   "metadata": {
    "collapsed": true
   },
   "outputs": [],
   "source": [
    "import torch\n",
    "import torch.nn as nn\n",
    "import torch.nn.functional as F\n",
    "from torch.autograd import Variable\n",
    "import torch.optim as optim\n",
    "import numpy as np\n",
    "import matplotlib.pyplot as plt\n",
    "import matplotlib.gridspec as gridspec\n",
    "import os"
   ]
  },
  {
   "cell_type": "code",
   "execution_count": 2,
   "metadata": {
    "collapsed": true
   },
   "outputs": [],
   "source": [
    "from tensorflow.examples.tutorials.mnist import input_data"
   ]
  },
  {
   "cell_type": "code",
   "execution_count": 3,
   "metadata": {},
   "outputs": [
    {
     "name": "stdout",
     "output_type": "stream",
     "text": [
      "Extracting ../../MNIST_data/train-images-idx3-ubyte.gz\n",
      "Extracting ../../MNIST_data/train-labels-idx1-ubyte.gz\n",
      "Extracting ../../MNIST_data/t10k-images-idx3-ubyte.gz\n",
      "Extracting ../../MNIST_data/t10k-labels-idx1-ubyte.gz\n"
     ]
    }
   ],
   "source": [
    "mnist = input_data.read_data_sets('../../MNIST_data', one_hot=True)\n",
    "# set the min batch size\n",
    "mb_size = 64\n",
    "# the number of samples to take from a random distribution\n",
    "Z_dim = 100\n",
    "\n",
    "# The number of training examples\n",
    "X_dim = mnist.train.images.shape[1]\n",
    "y_dim = mnist.train.labels.shape[1]\n",
    "\n",
    "# The size of hidden layer\n",
    "h_dim = 128\n",
    "\n",
    "# Set the initial cost to zero\n",
    "c = 0\n",
    "\n",
    "# Set the learning rate\n",
    "lr = 1e-3"
   ]
  },
  {
   "cell_type": "code",
   "execution_count": 4,
   "metadata": {
    "collapsed": true
   },
   "outputs": [],
   "source": [
    "# Lets define the 'Xavier Initialization function'\n",
    "def xavier_init(size):\n",
    "    in_dim = size[0]\n",
    "    xavier_stddev = 1. / np.sqrt(in_dim / 2.)\n",
    "    return Variable(torch.randn(*size) * xavier_stddev, requires_grad=True)"
   ]
  },
  {
   "cell_type": "markdown",
   "metadata": {},
   "source": [
    "### Define the models"
   ]
  },
  {
   "cell_type": "markdown",
   "metadata": {},
   "source": [
    "#### Generator Network"
   ]
  },
  {
   "cell_type": "code",
   "execution_count": 5,
   "metadata": {
    "collapsed": true
   },
   "outputs": [],
   "source": [
    "#Generator Network\n",
    "class Generator(nn.Module):\n",
    "    \n",
    "    def __init__(self):\n",
    "        super(Generator, self).__init__()\n",
    "        \n",
    "        self.main = nn.Sequential(\n",
    "            nn.Linear(Z_dim, h_dim),\n",
    "            nn.ReLU(True),\n",
    "            nn.Linear(h_dim, X_dim),\n",
    "            nn.Sigmoid()\n",
    "        )\n",
    "        \n",
    "    def forward(self, x):\n",
    "        output = self.main(x)\n",
    "        \n",
    "        return output"
   ]
  },
  {
   "cell_type": "markdown",
   "metadata": {},
   "source": [
    "#### Discriminator Network"
   ]
  },
  {
   "cell_type": "code",
   "execution_count": 6,
   "metadata": {
    "collapsed": true
   },
   "outputs": [],
   "source": [
    "#Discriminator Network\n",
    "class Discriminator(nn.Module):\n",
    "    \n",
    "    def __init__(self):\n",
    "        super(Discriminator, self).__init__()\n",
    "        \n",
    "        self.main = nn.Sequential(\n",
    "            nn.Linear(X_dim, h_dim),\n",
    "            nn.ReLU(True),\n",
    "            nn.Linear(h_dim, 1),\n",
    "            nn.Sigmoid()\n",
    "        )\n",
    "        \n",
    "    def forward(self, x):\n",
    "        output = self.main(x)\n",
    "        \n",
    "        return output"
   ]
  },
  {
   "cell_type": "code",
   "execution_count": 7,
   "metadata": {
    "collapsed": true
   },
   "outputs": [],
   "source": [
    "#Get instance of both classes\n",
    "G = Generator()\n",
    "D = Discriminator()"
   ]
  },
  {
   "cell_type": "code",
   "execution_count": 8,
   "metadata": {
    "collapsed": true
   },
   "outputs": [],
   "source": [
    "# Get parameters\n",
    "G_params = G.parameters()\n",
    "D_params = D.parameters()"
   ]
  },
  {
   "cell_type": "code",
   "execution_count": 9,
   "metadata": {
    "collapsed": true
   },
   "outputs": [],
   "source": [
    "# Reset gradients for Generator and Discriminator\n",
    "def reset_grad():\n",
    "    G.zero_grad()\n",
    "    D.zero_grad()"
   ]
  },
  {
   "cell_type": "code",
   "execution_count": 10,
   "metadata": {
    "collapsed": true
   },
   "outputs": [],
   "source": [
    "# Define loss\n",
    "criterion = nn.MSELoss()\n",
    "\n",
    "# Declare the optimizers for generator\n",
    "G_solver = optim.Adam(G_params, lr=1e-3)\n",
    "\n",
    "# Declare the optimizers for discriminator\n",
    "D_solver = optim.Adam(D_params, lr=1e-3)\n",
    "\n",
    "\n",
    "# The targets for the discriminator.\n",
    "# Zeros for the samples coming from generator and one for the data coming from sample space\n",
    "ones_label = Variable(torch.ones(mb_size))\n",
    "zeros_label = Variable(torch.zeros(mb_size))"
   ]
  },
  {
   "cell_type": "code",
   "execution_count": 11,
   "metadata": {},
   "outputs": [
    {
     "name": "stdout",
     "output_type": "stream",
     "text": [
      "Iter-0; D_loss: [ 0.48657152]; G_loss: [ 0.53019524]\n",
      "Iter-1000; D_loss: [ 0.02138289]; G_loss: [ 0.93806458]\n",
      "Iter-2000; D_loss: [ 0.01303946]; G_loss: [ 0.90362054]\n",
      "Iter-3000; D_loss: [ 0.02095347]; G_loss: [ 0.95513052]\n",
      "Iter-4000; D_loss: [ 0.05892196]; G_loss: [ 0.87585598]\n",
      "Iter-5000; D_loss: [ 0.04449201]; G_loss: [ 0.95240372]\n",
      "Iter-6000; D_loss: [ 0.0722617]; G_loss: [ 0.79282206]\n",
      "Iter-7000; D_loss: [ 0.13460487]; G_loss: [ 0.82863653]\n",
      "Iter-8000; D_loss: [ 0.0828648]; G_loss: [ 0.80735755]\n",
      "Iter-9000; D_loss: [ 0.19499782]; G_loss: [ 0.72987235]\n",
      "Iter-10000; D_loss: [ 0.34156314]; G_loss: [ 0.64453381]\n",
      "Iter-11000; D_loss: [ 0.27234644]; G_loss: [ 0.71813297]\n",
      "Iter-12000; D_loss: [ 0.24825859]; G_loss: [ 0.6532138]\n",
      "Iter-13000; D_loss: [ 0.1984278]; G_loss: [ 0.63907915]\n",
      "Iter-14000; D_loss: [ 0.33814284]; G_loss: [ 0.62032026]\n",
      "Iter-15000; D_loss: [ 0.24516726]; G_loss: [ 0.6092065]\n",
      "Iter-16000; D_loss: [ 0.30106458]; G_loss: [ 0.7476207]\n",
      "Iter-17000; D_loss: [ 0.29722103]; G_loss: [ 0.65135342]\n",
      "Iter-18000; D_loss: [ 0.30530173]; G_loss: [ 0.57549369]\n",
      "Iter-19000; D_loss: [ 0.34739476]; G_loss: [ 0.58368635]\n",
      "Iter-20000; D_loss: [ 0.24530938]; G_loss: [ 0.66753519]\n",
      "Iter-21000; D_loss: [ 0.26699227]; G_loss: [ 0.5875355]\n",
      "Iter-22000; D_loss: [ 0.22978762]; G_loss: [ 0.61407405]\n",
      "Iter-23000; D_loss: [ 0.21665105]; G_loss: [ 0.60271585]\n",
      "Iter-24000; D_loss: [ 0.26221657]; G_loss: [ 0.74729717]\n",
      "Iter-25000; D_loss: [ 0.2533673]; G_loss: [ 0.62811977]\n",
      "Iter-26000; D_loss: [ 0.26596323]; G_loss: [ 0.65210944]\n",
      "Iter-27000; D_loss: [ 0.36098391]; G_loss: [ 0.59519821]\n",
      "Iter-28000; D_loss: [ 0.37321541]; G_loss: [ 0.60702908]\n",
      "Iter-29000; D_loss: [ 0.35251033]; G_loss: [ 0.60597444]\n",
      "Iter-30000; D_loss: [ 0.27216059]; G_loss: [ 0.71328002]\n",
      "Iter-31000; D_loss: [ 0.35289076]; G_loss: [ 0.60508198]\n",
      "Iter-32000; D_loss: [ 0.25313345]; G_loss: [ 0.70478994]\n",
      "Iter-33000; D_loss: [ 0.2541624]; G_loss: [ 0.64357066]\n",
      "Iter-34000; D_loss: [ 0.19629879]; G_loss: [ 0.64597136]\n",
      "Iter-35000; D_loss: [ 0.18538646]; G_loss: [ 0.66101003]\n",
      "Iter-36000; D_loss: [ 0.34212291]; G_loss: [ 0.68456155]\n",
      "Iter-37000; D_loss: [ 0.25949267]; G_loss: [ 0.58269829]\n",
      "Iter-38000; D_loss: [ 0.22040412]; G_loss: [ 0.62925732]\n",
      "Iter-39000; D_loss: [ 0.30575603]; G_loss: [ 0.7405265]\n",
      "Iter-40000; D_loss: [ 0.24259788]; G_loss: [ 0.70424628]\n",
      "Iter-41000; D_loss: [ 0.24568686]; G_loss: [ 0.64877796]\n",
      "Iter-42000; D_loss: [ 0.30595952]; G_loss: [ 0.65456295]\n",
      "Iter-43000; D_loss: [ 0.2113118]; G_loss: [ 0.71942294]\n",
      "Iter-44000; D_loss: [ 0.26750755]; G_loss: [ 0.73649007]\n",
      "Iter-45000; D_loss: [ 0.1932365]; G_loss: [ 0.52092934]\n",
      "Iter-46000; D_loss: [ 0.23691332]; G_loss: [ 0.67347831]\n",
      "Iter-47000; D_loss: [ 0.27662903]; G_loss: [ 0.73900515]\n",
      "Iter-48000; D_loss: [ 0.22503057]; G_loss: [ 0.68839985]\n",
      "Iter-49000; D_loss: [ 0.24602222]; G_loss: [ 0.63979417]\n",
      "Iter-50000; D_loss: [ 0.16194767]; G_loss: [ 0.65322542]\n",
      "Iter-51000; D_loss: [ 0.26878601]; G_loss: [ 0.51539677]\n",
      "Iter-52000; D_loss: [ 0.22374481]; G_loss: [ 0.68605393]\n",
      "Iter-53000; D_loss: [ 0.24428101]; G_loss: [ 0.6986568]\n",
      "Iter-54000; D_loss: [ 0.19202828]; G_loss: [ 0.67140073]\n",
      "Iter-55000; D_loss: [ 0.25404054]; G_loss: [ 0.77259248]\n",
      "Iter-56000; D_loss: [ 0.277107]; G_loss: [ 0.68510854]\n",
      "Iter-57000; D_loss: [ 0.27942836]; G_loss: [ 0.61900765]\n",
      "Iter-58000; D_loss: [ 0.2756837]; G_loss: [ 0.6328724]\n",
      "Iter-59000; D_loss: [ 0.25178266]; G_loss: [ 0.74302584]\n",
      "Iter-60000; D_loss: [ 0.27043343]; G_loss: [ 0.66145688]\n",
      "Iter-61000; D_loss: [ 0.25206214]; G_loss: [ 0.67549622]\n",
      "Iter-62000; D_loss: [ 0.18628669]; G_loss: [ 0.6655429]\n",
      "Iter-63000; D_loss: [ 0.22833551]; G_loss: [ 0.77495396]\n",
      "Iter-64000; D_loss: [ 0.2263063]; G_loss: [ 0.68663549]\n",
      "Iter-65000; D_loss: [ 0.26199767]; G_loss: [ 0.7375989]\n",
      "Iter-66000; D_loss: [ 0.20115513]; G_loss: [ 0.68926042]\n",
      "Iter-67000; D_loss: [ 0.25581455]; G_loss: [ 0.70028734]\n",
      "Iter-68000; D_loss: [ 0.20656115]; G_loss: [ 0.69644743]\n",
      "Iter-69000; D_loss: [ 0.25231987]; G_loss: [ 0.64132172]\n",
      "Iter-70000; D_loss: [ 0.23835452]; G_loss: [ 0.68524259]\n",
      "Iter-71000; D_loss: [ 0.23435622]; G_loss: [ 0.6973803]\n",
      "Iter-72000; D_loss: [ 0.19855137]; G_loss: [ 0.73565835]\n",
      "Iter-73000; D_loss: [ 0.29011792]; G_loss: [ 0.68879706]\n",
      "Iter-74000; D_loss: [ 0.19117796]; G_loss: [ 0.7092678]\n",
      "Iter-75000; D_loss: [ 0.24805382]; G_loss: [ 0.66687715]\n",
      "Iter-76000; D_loss: [ 0.19152224]; G_loss: [ 0.68916607]\n",
      "Iter-77000; D_loss: [ 0.23549831]; G_loss: [ 0.61547148]\n",
      "Iter-78000; D_loss: [ 0.24522594]; G_loss: [ 0.63989246]\n",
      "Iter-79000; D_loss: [ 0.19299001]; G_loss: [ 0.70520335]\n",
      "Iter-80000; D_loss: [ 0.20967945]; G_loss: [ 0.62554508]\n",
      "Iter-81000; D_loss: [ 0.27422673]; G_loss: [ 0.62252313]\n",
      "Iter-82000; D_loss: [ 0.21864608]; G_loss: [ 0.72945547]\n",
      "Iter-83000; D_loss: [ 0.2247231]; G_loss: [ 0.60525841]\n",
      "Iter-84000; D_loss: [ 0.26517469]; G_loss: [ 0.59344375]\n",
      "Iter-85000; D_loss: [ 0.21869209]; G_loss: [ 0.74758959]\n",
      "Iter-86000; D_loss: [ 0.20058909]; G_loss: [ 0.68365204]\n",
      "Iter-87000; D_loss: [ 0.22550485]; G_loss: [ 0.63273424]\n",
      "Iter-88000; D_loss: [ 0.28582895]; G_loss: [ 0.73036659]\n",
      "Iter-89000; D_loss: [ 0.21016154]; G_loss: [ 0.64329356]\n",
      "Iter-90000; D_loss: [ 0.21481779]; G_loss: [ 0.67035639]\n",
      "Iter-91000; D_loss: [ 0.23973642]; G_loss: [ 0.71648163]\n",
      "Iter-92000; D_loss: [ 0.20896411]; G_loss: [ 0.6294353]\n",
      "Iter-93000; D_loss: [ 0.23943129]; G_loss: [ 0.63483626]\n",
      "Iter-94000; D_loss: [ 0.20445573]; G_loss: [ 0.7215333]\n",
      "Iter-95000; D_loss: [ 0.17789359]; G_loss: [ 0.63177949]\n",
      "Iter-96000; D_loss: [ 0.23306525]; G_loss: [ 0.66482288]\n",
      "Iter-97000; D_loss: [ 0.22561513]; G_loss: [ 0.67219049]\n",
      "Iter-98000; D_loss: [ 0.2683717]; G_loss: [ 0.66677189]\n",
      "Iter-99000; D_loss: [ 0.2818507]; G_loss: [ 0.60540426]\n"
     ]
    }
   ],
   "source": [
    "gen_loss=[]\n",
    "dis_loss=[]\n",
    "\n",
    "for it in range(100000):\n",
    "    # Sample data\n",
    "    z = Variable(torch.randn(mb_size, Z_dim))\n",
    "    X, _ = mnist.train.next_batch(mb_size)\n",
    "    \n",
    "    #The iputs should be a torch tensor\n",
    "    X = Variable(torch.from_numpy(X))\n",
    "    \n",
    "    # Dicriminator forward-loss-backward-update\n",
    "    G_sample = G(z)\n",
    "    D_real = D(X)\n",
    "    D_fake = D(G_sample)\n",
    "\n",
    "    D_loss_real = criterion(D_real, ones_label)\n",
    "    D_loss_fake = criterion(D_fake, zeros_label)\n",
    "    D_loss = D_loss_real + D_loss_fake\n",
    "\n",
    "    D_loss.backward()\n",
    "    D_solver.step()\n",
    "\n",
    "    # Housekeeping - reset gradient\n",
    "    reset_grad()\n",
    "\n",
    "    # Generator forward-loss-backward-update\n",
    "    z = Variable(torch.randn(mb_size, Z_dim))\n",
    "    G_sample = G(z)\n",
    "    D_fake = D(G_sample)\n",
    "\n",
    "    G_loss = criterion(D_fake, ones_label)\n",
    "\n",
    "    G_loss.backward()\n",
    "    G_solver.step()\n",
    "\n",
    "    # Housekeeping - reset gradient\n",
    "    reset_grad()\n",
    "\n",
    "    # Print and plot every now and then\n",
    "    if it % 1000 == 0:\n",
    "        print('Iter-{}; D_loss: {}; G_loss: {}'.format(it, D_loss.data.numpy(), G_loss.data.numpy()))\n",
    "        dis_loss.append(D_loss.data.numpy())\n",
    "        gen_loss.append(G_loss.data.numpy())\n",
    "\n",
    "        samples = G(z).data.numpy()[:16]\n",
    "\n",
    "        fig = plt.figure(figsize=(4, 4))\n",
    "        gs = gridspec.GridSpec(4, 4)\n",
    "        gs.update(wspace=0.05, hspace=0.05)\n",
    "\n",
    "        for i, sample in enumerate(samples):\n",
    "            ax = plt.subplot(gs[i])\n",
    "            plt.axis('off')\n",
    "            ax.set_xticklabels([])\n",
    "            ax.set_yticklabels([])\n",
    "            ax.set_aspect('equal')\n",
    "            plt.imshow(sample.reshape(28, 28), cmap='Greys_r')\n",
    "\n",
    "        plt.savefig('out-pytorch-gan/{}.png'.format(str(c).zfill(3)), bbox_inches='tight')\n",
    "        c += 1\n",
    "        plt.close(fig)"
   ]
  },
  {
   "cell_type": "code",
   "execution_count": 12,
   "metadata": {
    "collapsed": true
   },
   "outputs": [],
   "source": [
    "import pickle\n",
    "\n",
    "with open(\"./out-pytorch-gan/losses_pickles/genloss.pkl\",\"wb\") as f:\n",
    "    pickle.dump(gen_loss,f)\n",
    "\n",
    "with open(\"./out-pytorch-gan/losses_pickles/disloss.pkl\",\"wb\") as f:\n",
    "    pickle.dump(dis_loss,f)"
   ]
  },
  {
   "cell_type": "code",
   "execution_count": 13,
   "metadata": {
    "collapsed": true
   },
   "outputs": [],
   "source": [
    "import matplotlib.pyplot as plt\n",
    "\n",
    "with open(\"./out-pytorch-gan/losses_pickles/genloss.pkl\",\"rb\") as f:\n",
    "    gen_loss=pickle.load(f)\n",
    "\n",
    "with open(\"./out-pytorch-gan/losses_pickles/disloss.pkl\",\"rb\") as f:\n",
    "    dis_loss=pickle.load(f)"
   ]
  },
  {
   "cell_type": "code",
   "execution_count": 14,
   "metadata": {},
   "outputs": [
    {
     "data": {
      "image/png": "[encoded data removed]",
      "text/plain": [
       "<matplotlib.figure.Figure at 0x7f39ed61f518>"
      ]
     },
     "metadata": {},
     "output_type": "display_data"
    }
   ],
   "source": [
    "plt.plot(gen_loss)\n",
    "plt.show()"
   ]
  },
  {
   "cell_type": "code",
   "execution_count": 15,
   "metadata": {},
   "outputs": [
    {
     "data": {
      "image/png": "[encoded data removed]",
      "text/plain": [
       "<matplotlib.figure.Figure at 0x7f39eda6dd30>"
      ]
     },
     "metadata": {},
     "output_type": "display_data"
    }
   ],
   "source": [
    "plt.plot(dis_loss)\n",
    "plt.show()"
   ]
  },
  {
   "cell_type": "code",
   "execution_count": null,
   "metadata": {
    "collapsed": true
   },
   "outputs": [],
   "source": []
  }
 ],
 "metadata": {
  "kernelspec": {
   "display_name": "Python 3",
   "language": "python",
   "name": "python3"
  },
  "language_info": {
   "codemirror_mode": {
    "name": "ipython",
    "version": 3
   },
   "file_extension": ".py",
   "mimetype": "text/x-python",
   "name": "python",
   "nbconvert_exporter": "python",
   "pygments_lexer": "ipython3",
   "version": "3.6.2"
  }
 },
 "nbformat": 4,
 "nbformat_minor": 2
}
